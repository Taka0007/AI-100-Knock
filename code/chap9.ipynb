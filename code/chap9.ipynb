{
  "nbformat": 4,
  "nbformat_minor": 0,
  "metadata": {
    "colab": {
      "provenance": [],
      "authorship_tag": "ABX9TyM/JSeTLulAoj0MI1VszCok"
    },
    "kernelspec": {
      "name": "python3",
      "display_name": "Python 3"
    },
    "language_info": {
      "name": "python"
    }
  },
  "cells": [
    {
      "cell_type": "markdown",
      "source": [
        "# 9章 AIを説明可能にする\n",
        "\n",
        "ファイルパス：code/chap9.ipynb"
      ],
      "metadata": {
        "id": "oYQZ9GL2xc7t"
      }
    },
    {
      "cell_type": "markdown",
      "source": [
        "### import\n",
        "* ボストンのデータは倫理的な問題があるため、今回は使用しません。\n",
        "（代わりにカリフォルニアのデータを使用します。）"
      ],
      "metadata": {
        "id": "oFkcqsHr84X_"
      }
    },
    {
      "cell_type": "code",
      "source": [
        "# import\n",
        "import pandas as pd\n",
        "#from sklearn.datasets import load_boston\n",
        "from sklearn.datasets import fetch_california_housing\n",
        "from sklearn.model_selection import train_test_split\n",
        "from sklearn.tree import DecisionTreeRegressor"
      ],
      "metadata": {
        "id": "MVUGq7w9oQzH"
      },
      "execution_count": 2,
      "outputs": []
    },
    {
      "cell_type": "markdown",
      "source": [
        "## SHAPモデルなしのモデル構築"
      ],
      "metadata": {
        "id": "4FhvEQkjyzmm"
      }
    },
    {
      "cell_type": "code",
      "source": [
        "# データをロード\n",
        "housing = fetch_california_housing()"
      ],
      "metadata": {
        "id": "Qbulsy2hy8kJ"
      },
      "execution_count": 3,
      "outputs": []
    },
    {
      "cell_type": "markdown",
      "source": [
        "## SHAPモデルの構築\n",
        "\n",
        "SHAPモデル:各説明変数の貢献度を算出するモデル"
      ],
      "metadata": {
        "id": "WmB2f5yzyfvy"
      }
    },
    {
      "cell_type": "code",
      "source": [
        "!pip install shap"
      ],
      "metadata": {
        "id": "QDNbu5yCy81F"
      },
      "execution_count": null,
      "outputs": []
    },
    {
      "cell_type": "code",
      "source": [
        "import shap"
      ],
      "metadata": {
        "id": "SRK11iAHz1ZO"
      },
      "execution_count": null,
      "outputs": []
    }
  ]
}